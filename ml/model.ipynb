{
 "cells": [
  {
   "cell_type": "code",
   "execution_count": 1,
   "source": [
    "import pandas as pd\n",
    "import numpy as np\n",
    "from sklearn.model_selection import train_test_split\n",
    "from sklearn.metrics import roc_auc_score"
   ],
   "outputs": [],
   "metadata": {}
  },
  {
   "cell_type": "code",
   "execution_count": 2,
   "source": [
    "data = pd.read_csv('encoded_data.csv', index_col=0)\n",
    "data.info()"
   ],
   "outputs": [
    {
     "output_type": "stream",
     "name": "stdout",
     "text": [
      "<class 'pandas.core.frame.DataFrame'>\n",
      "Int64Index: 96488 entries, 0 to 96604\n",
      "Columns: 344 entries, POLICY_SALES_CHANNEL_1 to POLICY_PRICE_CHANGE\n",
      "dtypes: float64(5), int64(338), object(1)\n",
      "memory usage: 254.0+ MB\n"
     ]
    }
   ],
   "metadata": {}
  },
  {
   "cell_type": "code",
   "execution_count": 3,
   "source": [
    "data.head(5)"
   ],
   "outputs": [
    {
     "output_type": "execute_result",
     "data": {
      "text/plain": [
       "   POLICY_SALES_CHANNEL_1  POLICY_SALES_CHANNEL_4  POLICY_SALES_CHANNEL_6  \\\n",
       "0                       0                       0                       0   \n",
       "1                       0                       0                       0   \n",
       "2                       0                       0                       0   \n",
       "3                       0                       0                       0   \n",
       "4                       0                       0                       0   \n",
       "\n",
       "   POLICY_SALES_CHANNEL_8  POLICY_SALES_CHANNEL_10  POLICY_SALES_CHANNEL_13  \\\n",
       "0                       0                        0                        0   \n",
       "1                       0                        0                        0   \n",
       "2                       0                        0                        0   \n",
       "3                       0                        0                        0   \n",
       "4                       0                        0                        0   \n",
       "\n",
       "   POLICY_SALES_CHANNEL_14  POLICY_SALES_CHANNEL_15  POLICY_SALES_CHANNEL_50  \\\n",
       "0                        0                        0                        0   \n",
       "1                        0                        0                        1   \n",
       "2                        0                        0                        0   \n",
       "3                        0                        0                        1   \n",
       "4                        0                        0                        0   \n",
       "\n",
       "   POLICY_SALES_CHANNEL_52  ...  VEHICLE_IN_CREDIT  VEHICLE_SUM_INSURED  \\\n",
       "0                        0  ...                  0            1283202.0   \n",
       "1                        0  ...                  0             453000.0   \n",
       "2                        1  ...                  0             647718.0   \n",
       "3                        0  ...                  0             757795.0   \n",
       "4                        1  ...                  0             604500.0   \n",
       "\n",
       "   CLIENT_HAS_DAGO  CLIENT_HAS_OSAGO  POLICY_COURT_SIGN  CLAIM_AVG_ACC_ST_PRD  \\\n",
       "0                1                 0                  0                   0.0   \n",
       "1                1                 1                  0                   0.0   \n",
       "2                0                 0                  0                   0.0   \n",
       "3                1                 1                  0                   0.0   \n",
       "4                0                 0                  0                   0.0   \n",
       "\n",
       "   POLICY_HAS_COMPLAINTS  POLICY_YEARS_RENEWED_N  POLICY_DEDUCT_VALUE  \\\n",
       "0                      0                       0                  0.0   \n",
       "1                      0                       4                  0.0   \n",
       "2                      0                       1              12518.0   \n",
       "3                      0                       6              15000.0   \n",
       "4                      0                       0              50000.0   \n",
       "\n",
       "   POLICY_PRICE_CHANGE  \n",
       "0                -1.00  \n",
       "1                -0.05  \n",
       "2                -0.07  \n",
       "3                 0.05  \n",
       "4                 0.17  \n",
       "\n",
       "[5 rows x 344 columns]"
      ],
      "text/html": [
       "<div>\n",
       "<style scoped>\n",
       "    .dataframe tbody tr th:only-of-type {\n",
       "        vertical-align: middle;\n",
       "    }\n",
       "\n",
       "    .dataframe tbody tr th {\n",
       "        vertical-align: top;\n",
       "    }\n",
       "\n",
       "    .dataframe thead th {\n",
       "        text-align: right;\n",
       "    }\n",
       "</style>\n",
       "<table border=\"1\" class=\"dataframe\">\n",
       "  <thead>\n",
       "    <tr style=\"text-align: right;\">\n",
       "      <th></th>\n",
       "      <th>POLICY_SALES_CHANNEL_1</th>\n",
       "      <th>POLICY_SALES_CHANNEL_4</th>\n",
       "      <th>POLICY_SALES_CHANNEL_6</th>\n",
       "      <th>POLICY_SALES_CHANNEL_8</th>\n",
       "      <th>POLICY_SALES_CHANNEL_10</th>\n",
       "      <th>POLICY_SALES_CHANNEL_13</th>\n",
       "      <th>POLICY_SALES_CHANNEL_14</th>\n",
       "      <th>POLICY_SALES_CHANNEL_15</th>\n",
       "      <th>POLICY_SALES_CHANNEL_50</th>\n",
       "      <th>POLICY_SALES_CHANNEL_52</th>\n",
       "      <th>...</th>\n",
       "      <th>VEHICLE_IN_CREDIT</th>\n",
       "      <th>VEHICLE_SUM_INSURED</th>\n",
       "      <th>CLIENT_HAS_DAGO</th>\n",
       "      <th>CLIENT_HAS_OSAGO</th>\n",
       "      <th>POLICY_COURT_SIGN</th>\n",
       "      <th>CLAIM_AVG_ACC_ST_PRD</th>\n",
       "      <th>POLICY_HAS_COMPLAINTS</th>\n",
       "      <th>POLICY_YEARS_RENEWED_N</th>\n",
       "      <th>POLICY_DEDUCT_VALUE</th>\n",
       "      <th>POLICY_PRICE_CHANGE</th>\n",
       "    </tr>\n",
       "  </thead>\n",
       "  <tbody>\n",
       "    <tr>\n",
       "      <th>0</th>\n",
       "      <td>0</td>\n",
       "      <td>0</td>\n",
       "      <td>0</td>\n",
       "      <td>0</td>\n",
       "      <td>0</td>\n",
       "      <td>0</td>\n",
       "      <td>0</td>\n",
       "      <td>0</td>\n",
       "      <td>0</td>\n",
       "      <td>0</td>\n",
       "      <td>...</td>\n",
       "      <td>0</td>\n",
       "      <td>1283202.0</td>\n",
       "      <td>1</td>\n",
       "      <td>0</td>\n",
       "      <td>0</td>\n",
       "      <td>0.0</td>\n",
       "      <td>0</td>\n",
       "      <td>0</td>\n",
       "      <td>0.0</td>\n",
       "      <td>-1.00</td>\n",
       "    </tr>\n",
       "    <tr>\n",
       "      <th>1</th>\n",
       "      <td>0</td>\n",
       "      <td>0</td>\n",
       "      <td>0</td>\n",
       "      <td>0</td>\n",
       "      <td>0</td>\n",
       "      <td>0</td>\n",
       "      <td>0</td>\n",
       "      <td>0</td>\n",
       "      <td>1</td>\n",
       "      <td>0</td>\n",
       "      <td>...</td>\n",
       "      <td>0</td>\n",
       "      <td>453000.0</td>\n",
       "      <td>1</td>\n",
       "      <td>1</td>\n",
       "      <td>0</td>\n",
       "      <td>0.0</td>\n",
       "      <td>0</td>\n",
       "      <td>4</td>\n",
       "      <td>0.0</td>\n",
       "      <td>-0.05</td>\n",
       "    </tr>\n",
       "    <tr>\n",
       "      <th>2</th>\n",
       "      <td>0</td>\n",
       "      <td>0</td>\n",
       "      <td>0</td>\n",
       "      <td>0</td>\n",
       "      <td>0</td>\n",
       "      <td>0</td>\n",
       "      <td>0</td>\n",
       "      <td>0</td>\n",
       "      <td>0</td>\n",
       "      <td>1</td>\n",
       "      <td>...</td>\n",
       "      <td>0</td>\n",
       "      <td>647718.0</td>\n",
       "      <td>0</td>\n",
       "      <td>0</td>\n",
       "      <td>0</td>\n",
       "      <td>0.0</td>\n",
       "      <td>0</td>\n",
       "      <td>1</td>\n",
       "      <td>12518.0</td>\n",
       "      <td>-0.07</td>\n",
       "    </tr>\n",
       "    <tr>\n",
       "      <th>3</th>\n",
       "      <td>0</td>\n",
       "      <td>0</td>\n",
       "      <td>0</td>\n",
       "      <td>0</td>\n",
       "      <td>0</td>\n",
       "      <td>0</td>\n",
       "      <td>0</td>\n",
       "      <td>0</td>\n",
       "      <td>1</td>\n",
       "      <td>0</td>\n",
       "      <td>...</td>\n",
       "      <td>0</td>\n",
       "      <td>757795.0</td>\n",
       "      <td>1</td>\n",
       "      <td>1</td>\n",
       "      <td>0</td>\n",
       "      <td>0.0</td>\n",
       "      <td>0</td>\n",
       "      <td>6</td>\n",
       "      <td>15000.0</td>\n",
       "      <td>0.05</td>\n",
       "    </tr>\n",
       "    <tr>\n",
       "      <th>4</th>\n",
       "      <td>0</td>\n",
       "      <td>0</td>\n",
       "      <td>0</td>\n",
       "      <td>0</td>\n",
       "      <td>0</td>\n",
       "      <td>0</td>\n",
       "      <td>0</td>\n",
       "      <td>0</td>\n",
       "      <td>0</td>\n",
       "      <td>1</td>\n",
       "      <td>...</td>\n",
       "      <td>0</td>\n",
       "      <td>604500.0</td>\n",
       "      <td>0</td>\n",
       "      <td>0</td>\n",
       "      <td>0</td>\n",
       "      <td>0.0</td>\n",
       "      <td>0</td>\n",
       "      <td>0</td>\n",
       "      <td>50000.0</td>\n",
       "      <td>0.17</td>\n",
       "    </tr>\n",
       "  </tbody>\n",
       "</table>\n",
       "<p>5 rows × 344 columns</p>\n",
       "</div>"
      ]
     },
     "metadata": {},
     "execution_count": 3
    }
   ],
   "metadata": {}
  },
  {
   "cell_type": "code",
   "execution_count": 4,
   "source": [
    "df = data[data['DATA_TYPE'] == 'TRAIN'].drop('DATA_TYPE', axis=1)\n",
    "\n",
    "X = df.drop('POLICY_IS_RENEWED', axis=1)\n",
    "y = df['POLICY_IS_RENEWED']"
   ],
   "outputs": [],
   "metadata": {}
  },
  {
   "cell_type": "code",
   "execution_count": 5,
   "source": [
    "from sklearn.preprocessing import StandardScaler\n",
    "\n",
    "numerical = ['POLICY_BEGIN_MONTH', 'POLICY_MIN_AGE', 'POLICY_MIN_DRIVING_EXPERIENCE', 'VEHICLE_ENGINE_POWER', 'VEHICLE_SUM_INSURED',\n",
    "    'CLAIM_AVG_ACC_ST_PRD', 'POLICY_YEARS_RENEWED_N', 'POLICY_DEDUCT_VALUE', 'POLICY_PRICE_CHANGE']\n",
    "X.loc[:,numerical] = StandardScaler().fit_transform(X.loc[:,numerical])\n",
    "X.head()"
   ],
   "outputs": [
    {
     "output_type": "execute_result",
     "data": {
      "text/plain": [
       "   POLICY_SALES_CHANNEL_1  POLICY_SALES_CHANNEL_4  POLICY_SALES_CHANNEL_6  \\\n",
       "0                       0                       0                       0   \n",
       "1                       0                       0                       0   \n",
       "2                       0                       0                       0   \n",
       "3                       0                       0                       0   \n",
       "4                       0                       0                       0   \n",
       "\n",
       "   POLICY_SALES_CHANNEL_8  POLICY_SALES_CHANNEL_10  POLICY_SALES_CHANNEL_13  \\\n",
       "0                       0                        0                        0   \n",
       "1                       0                        0                        0   \n",
       "2                       0                        0                        0   \n",
       "3                       0                        0                        0   \n",
       "4                       0                        0                        0   \n",
       "\n",
       "   POLICY_SALES_CHANNEL_14  POLICY_SALES_CHANNEL_15  POLICY_SALES_CHANNEL_50  \\\n",
       "0                        0                        0                        0   \n",
       "1                        0                        0                        1   \n",
       "2                        0                        0                        0   \n",
       "3                        0                        0                        1   \n",
       "4                        0                        0                        0   \n",
       "\n",
       "   POLICY_SALES_CHANNEL_52  ...  VEHICLE_IN_CREDIT  VEHICLE_SUM_INSURED  \\\n",
       "0                        0  ...                  0             0.440240   \n",
       "1                        0  ...                  0            -0.767297   \n",
       "2                        1  ...                  0            -0.484077   \n",
       "3                        0  ...                  0            -0.323969   \n",
       "4                        1  ...                  0            -0.546938   \n",
       "\n",
       "   CLIENT_HAS_DAGO  CLIENT_HAS_OSAGO  POLICY_COURT_SIGN  CLAIM_AVG_ACC_ST_PRD  \\\n",
       "0                1                 0                  0               -0.2181   \n",
       "1                1                 1                  0               -0.2181   \n",
       "2                0                 0                  0               -0.2181   \n",
       "3                1                 1                  0               -0.2181   \n",
       "4                0                 0                  0               -0.2181   \n",
       "\n",
       "   POLICY_HAS_COMPLAINTS  POLICY_YEARS_RENEWED_N  POLICY_DEDUCT_VALUE  \\\n",
       "0                      0               -0.933644            -0.573699   \n",
       "1                      0                1.563039            -0.573699   \n",
       "2                      0               -0.309474             0.630129   \n",
       "3                      0                2.811380             0.868818   \n",
       "4                      0               -0.933644             4.234690   \n",
       "\n",
       "   POLICY_PRICE_CHANGE  \n",
       "0            -1.153938  \n",
       "1            -0.019857  \n",
       "2            -0.043732  \n",
       "3             0.099520  \n",
       "4             0.242772  \n",
       "\n",
       "[5 rows x 342 columns]"
      ],
      "text/html": [
       "<div>\n",
       "<style scoped>\n",
       "    .dataframe tbody tr th:only-of-type {\n",
       "        vertical-align: middle;\n",
       "    }\n",
       "\n",
       "    .dataframe tbody tr th {\n",
       "        vertical-align: top;\n",
       "    }\n",
       "\n",
       "    .dataframe thead th {\n",
       "        text-align: right;\n",
       "    }\n",
       "</style>\n",
       "<table border=\"1\" class=\"dataframe\">\n",
       "  <thead>\n",
       "    <tr style=\"text-align: right;\">\n",
       "      <th></th>\n",
       "      <th>POLICY_SALES_CHANNEL_1</th>\n",
       "      <th>POLICY_SALES_CHANNEL_4</th>\n",
       "      <th>POLICY_SALES_CHANNEL_6</th>\n",
       "      <th>POLICY_SALES_CHANNEL_8</th>\n",
       "      <th>POLICY_SALES_CHANNEL_10</th>\n",
       "      <th>POLICY_SALES_CHANNEL_13</th>\n",
       "      <th>POLICY_SALES_CHANNEL_14</th>\n",
       "      <th>POLICY_SALES_CHANNEL_15</th>\n",
       "      <th>POLICY_SALES_CHANNEL_50</th>\n",
       "      <th>POLICY_SALES_CHANNEL_52</th>\n",
       "      <th>...</th>\n",
       "      <th>VEHICLE_IN_CREDIT</th>\n",
       "      <th>VEHICLE_SUM_INSURED</th>\n",
       "      <th>CLIENT_HAS_DAGO</th>\n",
       "      <th>CLIENT_HAS_OSAGO</th>\n",
       "      <th>POLICY_COURT_SIGN</th>\n",
       "      <th>CLAIM_AVG_ACC_ST_PRD</th>\n",
       "      <th>POLICY_HAS_COMPLAINTS</th>\n",
       "      <th>POLICY_YEARS_RENEWED_N</th>\n",
       "      <th>POLICY_DEDUCT_VALUE</th>\n",
       "      <th>POLICY_PRICE_CHANGE</th>\n",
       "    </tr>\n",
       "  </thead>\n",
       "  <tbody>\n",
       "    <tr>\n",
       "      <th>0</th>\n",
       "      <td>0</td>\n",
       "      <td>0</td>\n",
       "      <td>0</td>\n",
       "      <td>0</td>\n",
       "      <td>0</td>\n",
       "      <td>0</td>\n",
       "      <td>0</td>\n",
       "      <td>0</td>\n",
       "      <td>0</td>\n",
       "      <td>0</td>\n",
       "      <td>...</td>\n",
       "      <td>0</td>\n",
       "      <td>0.440240</td>\n",
       "      <td>1</td>\n",
       "      <td>0</td>\n",
       "      <td>0</td>\n",
       "      <td>-0.2181</td>\n",
       "      <td>0</td>\n",
       "      <td>-0.933644</td>\n",
       "      <td>-0.573699</td>\n",
       "      <td>-1.153938</td>\n",
       "    </tr>\n",
       "    <tr>\n",
       "      <th>1</th>\n",
       "      <td>0</td>\n",
       "      <td>0</td>\n",
       "      <td>0</td>\n",
       "      <td>0</td>\n",
       "      <td>0</td>\n",
       "      <td>0</td>\n",
       "      <td>0</td>\n",
       "      <td>0</td>\n",
       "      <td>1</td>\n",
       "      <td>0</td>\n",
       "      <td>...</td>\n",
       "      <td>0</td>\n",
       "      <td>-0.767297</td>\n",
       "      <td>1</td>\n",
       "      <td>1</td>\n",
       "      <td>0</td>\n",
       "      <td>-0.2181</td>\n",
       "      <td>0</td>\n",
       "      <td>1.563039</td>\n",
       "      <td>-0.573699</td>\n",
       "      <td>-0.019857</td>\n",
       "    </tr>\n",
       "    <tr>\n",
       "      <th>2</th>\n",
       "      <td>0</td>\n",
       "      <td>0</td>\n",
       "      <td>0</td>\n",
       "      <td>0</td>\n",
       "      <td>0</td>\n",
       "      <td>0</td>\n",
       "      <td>0</td>\n",
       "      <td>0</td>\n",
       "      <td>0</td>\n",
       "      <td>1</td>\n",
       "      <td>...</td>\n",
       "      <td>0</td>\n",
       "      <td>-0.484077</td>\n",
       "      <td>0</td>\n",
       "      <td>0</td>\n",
       "      <td>0</td>\n",
       "      <td>-0.2181</td>\n",
       "      <td>0</td>\n",
       "      <td>-0.309474</td>\n",
       "      <td>0.630129</td>\n",
       "      <td>-0.043732</td>\n",
       "    </tr>\n",
       "    <tr>\n",
       "      <th>3</th>\n",
       "      <td>0</td>\n",
       "      <td>0</td>\n",
       "      <td>0</td>\n",
       "      <td>0</td>\n",
       "      <td>0</td>\n",
       "      <td>0</td>\n",
       "      <td>0</td>\n",
       "      <td>0</td>\n",
       "      <td>1</td>\n",
       "      <td>0</td>\n",
       "      <td>...</td>\n",
       "      <td>0</td>\n",
       "      <td>-0.323969</td>\n",
       "      <td>1</td>\n",
       "      <td>1</td>\n",
       "      <td>0</td>\n",
       "      <td>-0.2181</td>\n",
       "      <td>0</td>\n",
       "      <td>2.811380</td>\n",
       "      <td>0.868818</td>\n",
       "      <td>0.099520</td>\n",
       "    </tr>\n",
       "    <tr>\n",
       "      <th>4</th>\n",
       "      <td>0</td>\n",
       "      <td>0</td>\n",
       "      <td>0</td>\n",
       "      <td>0</td>\n",
       "      <td>0</td>\n",
       "      <td>0</td>\n",
       "      <td>0</td>\n",
       "      <td>0</td>\n",
       "      <td>0</td>\n",
       "      <td>1</td>\n",
       "      <td>...</td>\n",
       "      <td>0</td>\n",
       "      <td>-0.546938</td>\n",
       "      <td>0</td>\n",
       "      <td>0</td>\n",
       "      <td>0</td>\n",
       "      <td>-0.2181</td>\n",
       "      <td>0</td>\n",
       "      <td>-0.933644</td>\n",
       "      <td>4.234690</td>\n",
       "      <td>0.242772</td>\n",
       "    </tr>\n",
       "  </tbody>\n",
       "</table>\n",
       "<p>5 rows × 342 columns</p>\n",
       "</div>"
      ]
     },
     "metadata": {},
     "execution_count": 5
    }
   ],
   "metadata": {}
  },
  {
   "cell_type": "code",
   "execution_count": 6,
   "source": [
    "X_train, X_test, y_train, y_test = train_test_split(X, y, test_size=0.2)"
   ],
   "outputs": [],
   "metadata": {}
  },
  {
   "cell_type": "code",
   "execution_count": 7,
   "source": [
    "from sklearn.feature_selection import SelectKBest\n",
    "\n",
    "selector = SelectKBest(k=100)\n",
    "selected_features = selector.fit(X_train, y_train)\n",
    "indices_selected = selected_features.get_support(indices=True)\n",
    "colnames_selected = [X.columns[i] for i in indices_selected]\n",
    "\n",
    "X_train = X_train[colnames_selected]\n",
    "X_test = X_test[colnames_selected]\n",
    "\n",
    "print(colnames_selected)"
   ],
   "outputs": [
    {
     "output_type": "stream",
     "name": "stdout",
     "text": [
      "['POLICY_SALES_CHANNEL_1', 'POLICY_SALES_CHANNEL_10', 'POLICY_SALES_CHANNEL_15', 'POLICY_SALES_CHANNEL_50', 'POLICY_SALES_CHANNEL_54', 'POLICY_SALES_CHANNEL_55', 'POLICY_SALES_CHANNEL_GROUP_4', 'POLICY_SALES_CHANNEL_GROUP_5', 'POLICY_SALES_CHANNEL_GROUP_6', 'POLICY_SALES_CHANNEL_GROUP_Other', 'POLICY_BRANCH_Москва', 'POLICY_BRANCH_Санкт-Петербург', 'VEHICLE_MAKE_BMW', 'VEHICLE_MAKE_Ford', 'VEHICLE_MAKE_Geely', 'VEHICLE_MAKE_Infiniti', 'VEHICLE_MAKE_Lada', 'VEHICLE_MAKE_Lifan', 'VEHICLE_MAKE_Mazda', 'VEHICLE_MAKE_Mitsubishi', 'VEHICLE_MAKE_Nissan', 'VEHICLE_MAKE_Other', 'VEHICLE_MAKE_Skoda', 'VEHICLE_MAKE_Volvo', 'VEHICLE_MAKE_ВАЗ', 'VEHICLE_MODEL_3', 'VEHICLE_MODEL_3-series', 'VEHICLE_MODEL_3-series GT', 'VEHICLE_MODEL_5-series', 'VEHICLE_MODEL_ASX', 'VEHICLE_MODEL_Almera', 'VEHICLE_MODEL_CX-5', 'VEHICLE_MODEL_Emgrand', 'VEHICLE_MODEL_Fabia', 'VEHICLE_MODEL_Freelander', 'VEHICLE_MODEL_Fusion', 'VEHICLE_MODEL_Galaxy', 'VEHICLE_MODEL_Granta', 'VEHICLE_MODEL_Jetta', 'VEHICLE_MODEL_Koleos', 'VEHICLE_MODEL_Kuga', 'VEHICLE_MODEL_Megane', 'VEHICLE_MODEL_Outlander', 'VEHICLE_MODEL_Outlander XL', 'VEHICLE_MODEL_Pajero Sport', 'VEHICLE_MODEL_Q5', 'VEHICLE_MODEL_QX80', 'VEHICLE_MODEL_Qashqai', 'VEHICLE_MODEL_Rio', 'VEHICLE_MODEL_Solaris', 'VEHICLE_MODEL_Sportage', 'VEHICLE_MODEL_Tiguan', 'VEHICLE_MODEL_X6', 'VEHICLE_MODEL_XC60', 'VEHICLE_MODEL_Yeti', 'VEHICLE_MODEL_i30', 'VEHICLE_MODEL_i40', 'VEHICLE_MODEL_ix35', 'VEHICLE_MODEL_Другая модель (Грузовое ТС)', 'VEHICLE_MODEL_Другая модель (Легковое ТС)', 'INSURER_GENDER_F', 'INSURER_GENDER_M', 'POLICY_CLM_N_0', 'POLICY_CLM_N_1L', 'POLICY_CLM_N_1S', 'POLICY_CLM_N_2', 'POLICY_CLM_N_3', 'POLICY_CLM_N_4+', 'POLICY_CLM_GLT_N_0', 'POLICY_CLM_GLT_N_1L', 'POLICY_CLM_GLT_N_1S', 'POLICY_CLM_GLT_N_2', 'POLICY_CLM_GLT_N_3', 'POLICY_CLM_GLT_N_4+', 'POLICY_PRV_CLM_N_0', 'POLICY_PRV_CLM_N_1L', 'POLICY_PRV_CLM_N_1S', 'POLICY_PRV_CLM_N_4+', 'POLICY_PRV_CLM_N_N', 'POLICY_PRV_CLM_GLT_N_0', 'POLICY_PRV_CLM_GLT_N_1L', 'POLICY_PRV_CLM_GLT_N_1S', 'POLICY_PRV_CLM_GLT_N_3', 'POLICY_PRV_CLM_GLT_N_N', 'CLIENT_REGISTRATION_REGION_Other', 'CLIENT_REGISTRATION_REGION_Ленинградская', 'CLIENT_REGISTRATION_REGION_Москва', 'CLIENT_REGISTRATION_REGION_Московская', 'CLIENT_REGISTRATION_REGION_Санкт-Петербург', 'POLICY_BEGIN_MONTH', 'POLICY_MIN_AGE', 'VEHICLE_IN_CREDIT', 'VEHICLE_SUM_INSURED', 'CLIENT_HAS_DAGO', 'CLIENT_HAS_OSAGO', 'POLICY_COURT_SIGN', 'CLAIM_AVG_ACC_ST_PRD', 'POLICY_HAS_COMPLAINTS', 'POLICY_YEARS_RENEWED_N', 'POLICY_PRICE_CHANGE']\n"
     ]
    }
   ],
   "metadata": {}
  },
  {
   "cell_type": "code",
   "execution_count": 5,
   "source": [
    "# train = shuffle(data[data['DATA_TYPE'] == 'TRAIN'].drop('DATA_TYPE', axis=1))\n",
    "# test = shuffle(data[data['DATA_TYPE'] == 'TEST '].drop('DATA_TYPE', axis=1))\n",
    "\n",
    "# y_train = train['POLICY_IS_RENEWED']\n",
    "# y_test = test['POLICY_IS_RENEWED']\n",
    "# X_train = train.drop('POLICY_IS_RENEWED', axis=1)\n",
    "# X_test = test.drop('POLICY_IS_RENEWED', axis=1)"
   ],
   "outputs": [],
   "metadata": {}
  },
  {
   "cell_type": "code",
   "execution_count": 9,
   "source": [
    "print(X_train.shape)\n",
    "print(y_train.shape)\n",
    "print(X_test.shape)\n",
    "print(y_test.shape)"
   ],
   "outputs": [
    {
     "output_type": "stream",
     "name": "stdout",
     "text": [
      "(61848, 100)\n",
      "(61848,)\n",
      "(15463, 100)\n",
      "(15463,)\n"
     ]
    }
   ],
   "metadata": {}
  },
  {
   "cell_type": "markdown",
   "source": [
    "## Logisitic Regression"
   ],
   "metadata": {}
  },
  {
   "cell_type": "code",
   "execution_count": 10,
   "source": [
    "from sklearn.linear_model import LogisticRegression\n",
    "\n",
    "logisticRegr = LogisticRegression(max_iter=1000)\n",
    "logisticRegr.fit(X_train, y_train)"
   ],
   "outputs": [
    {
     "output_type": "execute_result",
     "data": {
      "text/plain": [
       "LogisticRegression(max_iter=1000)"
      ]
     },
     "metadata": {},
     "execution_count": 10
    }
   ],
   "metadata": {}
  },
  {
   "cell_type": "code",
   "execution_count": 11,
   "source": [
    "y_pred = [x[1] for x in logisticRegr.predict_proba(X_test)]\n",
    "score = roc_auc_score(y_test, y_pred)\n",
    "score"
   ],
   "outputs": [
    {
     "output_type": "execute_result",
     "data": {
      "text/plain": [
       "0.6608760621910418"
      ]
     },
     "metadata": {},
     "execution_count": 11
    }
   ],
   "metadata": {}
  },
  {
   "cell_type": "markdown",
   "source": [
    "## Descision tree"
   ],
   "metadata": {}
  },
  {
   "cell_type": "code",
   "execution_count": 12,
   "source": [
    "from sklearn.tree import DecisionTreeClassifier\n",
    "\n",
    "desTree = DecisionTreeClassifier()\n",
    "desTree.fit(X_train, y_train)"
   ],
   "outputs": [
    {
     "output_type": "execute_result",
     "data": {
      "text/plain": [
       "DecisionTreeClassifier()"
      ]
     },
     "metadata": {},
     "execution_count": 12
    }
   ],
   "metadata": {}
  },
  {
   "cell_type": "code",
   "execution_count": 13,
   "source": [
    "y_pred = [x[1] for x in desTree.predict_proba(X_test)]\n",
    "score = roc_auc_score(y_test, y_pred)\n",
    "score"
   ],
   "outputs": [
    {
     "output_type": "execute_result",
     "data": {
      "text/plain": [
       "0.5929490176811058"
      ]
     },
     "metadata": {},
     "execution_count": 13
    }
   ],
   "metadata": {}
  },
  {
   "cell_type": "markdown",
   "source": [
    "## Naive Bayes"
   ],
   "metadata": {}
  },
  {
   "cell_type": "code",
   "execution_count": 14,
   "source": [
    "from sklearn.naive_bayes import GaussianNB\n",
    "\n",
    "nb = GaussianNB()\n",
    "nb.fit(X_train, y_train)"
   ],
   "outputs": [
    {
     "output_type": "execute_result",
     "data": {
      "text/plain": [
       "GaussianNB()"
      ]
     },
     "metadata": {},
     "execution_count": 14
    }
   ],
   "metadata": {}
  },
  {
   "cell_type": "code",
   "execution_count": 15,
   "source": [
    "y_pred = [x[1] for x in nb.predict_proba(X_test)]\n",
    "score = roc_auc_score(y_test, y_pred)\n",
    "score"
   ],
   "outputs": [
    {
     "output_type": "execute_result",
     "data": {
      "text/plain": [
       "0.6312421821591749"
      ]
     },
     "metadata": {},
     "execution_count": 15
    }
   ],
   "metadata": {}
  },
  {
   "cell_type": "markdown",
   "source": [
    "## Support Vector Machine"
   ],
   "metadata": {}
  },
  {
   "cell_type": "code",
   "execution_count": 16,
   "source": [
    "from sklearn.svm import SVC\n",
    "\n",
    "svm_model = SVC(probability=True)\n",
    "svm_model.fit(X_train, y_train)"
   ],
   "outputs": [],
   "metadata": {}
  },
  {
   "cell_type": "code",
   "execution_count": null,
   "source": [
    "y_pred = [x[1] for x in svm_model.predict_proba(X_test)]\n",
    "score = roc_auc_score(y_test, y_pred)\n",
    "score"
   ],
   "outputs": [],
   "metadata": {}
  },
  {
   "cell_type": "markdown",
   "source": [
    "## K-nearest neighbors"
   ],
   "metadata": {}
  },
  {
   "cell_type": "code",
   "execution_count": 8,
   "source": [
    "from sklearn.neighbors import KNeighborsClassifier\n",
    "knn = KNeighborsClassifier()\n",
    "knn.fit(X_train, y_train)"
   ],
   "outputs": [
    {
     "output_type": "execute_result",
     "data": {
      "text/plain": [
       "KNeighborsClassifier()"
      ]
     },
     "metadata": {},
     "execution_count": 8
    }
   ],
   "metadata": {}
  },
  {
   "cell_type": "code",
   "execution_count": 9,
   "source": [
    "y_pred = [x[1] for x in knn.predict_proba(X_test)]\n",
    "score = roc_auc_score(y_test, y_pred)\n",
    "score"
   ],
   "outputs": [
    {
     "output_type": "execute_result",
     "data": {
      "text/plain": [
       "0.6018321568077537"
      ]
     },
     "metadata": {},
     "execution_count": 9
    }
   ],
   "metadata": {}
  },
  {
   "cell_type": "markdown",
   "source": [
    "## Stochastic Gradient Descent"
   ],
   "metadata": {}
  },
  {
   "cell_type": "code",
   "execution_count": 10,
   "source": [
    "from sklearn.linear_model import SGDClassifier\n",
    "\n",
    "sgd = SGDClassifier()\n",
    "sgd.fit(X_train, y_train)"
   ],
   "outputs": [
    {
     "output_type": "execute_result",
     "data": {
      "text/plain": [
       "SGDClassifier()"
      ]
     },
     "metadata": {},
     "execution_count": 10
    }
   ],
   "metadata": {}
  },
  {
   "cell_type": "code",
   "execution_count": 11,
   "source": [
    "score = sgd.score(X_test, y_test)\n",
    "score"
   ],
   "outputs": [
    {
     "output_type": "execute_result",
     "data": {
      "text/plain": [
       "0.6518786781349026"
      ]
     },
     "metadata": {},
     "execution_count": 11
    }
   ],
   "metadata": {}
  }
 ],
 "metadata": {
  "orig_nbformat": 4,
  "language_info": {
   "name": "python",
   "version": "3.9.6",
   "mimetype": "text/x-python",
   "codemirror_mode": {
    "name": "ipython",
    "version": 3
   },
   "pygments_lexer": "ipython3",
   "nbconvert_exporter": "python",
   "file_extension": ".py"
  },
  "kernelspec": {
   "name": "python3",
   "display_name": "Python 3.9.6 64-bit ('mindset': conda)"
  },
  "interpreter": {
   "hash": "f9f06a94abbe54daf137232e50c8f3c412bf5e210e70e8abb6e1774362a4efa8"
  }
 },
 "nbformat": 4,
 "nbformat_minor": 2
}