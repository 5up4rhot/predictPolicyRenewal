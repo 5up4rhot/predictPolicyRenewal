{
 "cells": [
  {
   "cell_type": "code",
   "execution_count": 1,
   "source": [
    "import catboost\n",
    "import pandas as pd\n",
    "import numpy as np\n",
    "from sklearn.metrics import accuracy_score\n",
    "from sklearn.metrics import roc_auc_score"
   ],
   "outputs": [],
   "metadata": {}
  },
  {
   "cell_type": "code",
   "execution_count": 2,
   "source": [
    "input_df = pd.read_csv('data.txt', sep=';')\n",
    "input_df = input_df[input_df['DATA_TYPE'] == 'TRAIN']\n",
    "print(input_df.shape)\n",
    "\n",
    "output_df = pd.read_csv('train_pred_df.csv')\n",
    "print(output_df.shape)"
   ],
   "outputs": [
    {
     "output_type": "stream",
     "name": "stdout",
     "text": [
      "(77407, 30)\n",
      "(77407, 4)\n"
     ]
    }
   ],
   "metadata": {}
  },
  {
   "cell_type": "code",
   "execution_count": 3,
   "source": [
    "output_accuracy = accuracy_score(input_df['POLICY_IS_RENEWED'], output_df['POLICY_IS_RENEWED'])\n",
    "output_auc = roc_auc_score(input_df['POLICY_IS_RENEWED'], output_df['POLICY_IS_RENEWED_PROBABILITY'])\n",
    "print('Accuracy:', output_accuracy)\n",
    "print('AUC: ', output_auc)"
   ],
   "outputs": [
    {
     "output_type": "stream",
     "name": "stdout",
     "text": [
      "Accuracy: 0.7341325719896133\n",
      "AUC:  0.7735103233026617\n"
     ]
    }
   ],
   "metadata": {}
  }
 ],
 "metadata": {
  "orig_nbformat": 4,
  "language_info": {
   "name": "python",
   "version": "3.9.6",
   "mimetype": "text/x-python",
   "codemirror_mode": {
    "name": "ipython",
    "version": 3
   },
   "pygments_lexer": "ipython3",
   "nbconvert_exporter": "python",
   "file_extension": ".py"
  },
  "kernelspec": {
   "name": "python3",
   "display_name": "Python 3.9.6 64-bit ('mindset': conda)"
  },
  "interpreter": {
   "hash": "f9f06a94abbe54daf137232e50c8f3c412bf5e210e70e8abb6e1774362a4efa8"
  }
 },
 "nbformat": 4,
 "nbformat_minor": 2
}